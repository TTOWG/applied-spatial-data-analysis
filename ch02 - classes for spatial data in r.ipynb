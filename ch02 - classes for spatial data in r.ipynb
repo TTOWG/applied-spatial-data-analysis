{
 "cells": [
  {
   "cell_type": "markdown",
   "metadata": {},
   "source": [
    "# Applied Spatial Data Analysis with R  \n",
    "**Springer**\n",
    "**UseR!**  \n",
    "## 2: Classes for Spatial Data in R  \n",
    "**Roger S. Bivand**  \n",
    "**Edzer Pebesma**  \n",
    "**Virgilio Gómez-Rubio**\n",
    "\n",
    "Transcribed by **Joshua Poirier**  \n",
    "**February 2017**\n",
    "\n",
    "### 2.2 Classes and Methods in R  \n",
    "\n",
    "Let's look at the *cars* data set which contains two variables, one recording the speed of the observed cars in mph, the other the stopping distance measured in feet. These observations were made in the 1920's."
   ]
  },
  {
   "cell_type": "code",
   "execution_count": 9,
   "metadata": {
    "collapsed": false
   },
   "outputs": [
    {
     "data": {
      "text/plain": [
       "     speed           dist            qspeed  \n",
       " Min.   : 4.0   Min.   :  2.00   [4,12] :15  \n",
       " 1st Qu.:12.0   1st Qu.: 26.00   (12,15]:11  \n",
       " Median :15.0   Median : 36.00   (15,19]:12  \n",
       " Mean   :15.4   Mean   : 42.98   (19,25]:12  \n",
       " 3rd Qu.:19.0   3rd Qu.: 56.00               \n",
       " Max.   :25.0   Max.   :120.00               "
      ]
     },
     "metadata": {},
     "output_type": "display_data"
    },
    {
     "data": {},
     "metadata": {},
     "output_type": "display_data"
    },
    {
     "data": {
      "image/png": "[encoded data removed]",
      "text/plain": [
       "plot without title"
      ]
     },
     "metadata": {},
     "output_type": "display_data"
    }
   ],
   "source": [
    "options(repr.plot.width=10, repr.plot.height=6)\n",
    "\n",
    "library(ggplot2)\n",
    "library(ggthemes)\n",
    "library(cowplot)\n",
    "\n",
    "summary(cars)\n",
    "cars$qspeed <- cut(cars$speed, breaks=quantile(cars$speed), include.lowest=T)\n",
    "\n",
    "g1 <- ggplot(data=cars, aes(x=speed, y=dist)) + theme_economist_white() +\n",
    "    geom_point() +\n",
    "    labs(x=\"Speed (mph)\", y=\"Stopping Distance (ft)\") +\n",
    "    xlim(0,25) +\n",
    "    theme(\n",
    "        panel.grid.major.x = element_line(color=\"white\", size=.5),\n",
    "        panel.grid.major.y = element_line(color=\"white\", size=.5),\n",
    "        panel.background   = element_rect(fill=\"gray88\"),\n",
    "        axis.line          = element_blank(),\n",
    "        axis.ticks         = element_blank(),\n",
    "        legend.position    = \"right\"\n",
    "    )\n",
    "\n",
    "g2 <- ggplot(data=cars, aes(x=qspeed, y=dist)) + theme_economist_white() +\n",
    "    geom_boxplot() +\n",
    "    labs(x=\"Quartile Speed (mph)\", y=\"Stopping Distance (ft)\") +\n",
    "    theme(\n",
    "        panel.grid.major.x = element_line(color=\"white\", size=.5),\n",
    "        panel.grid.major.y = element_line(color=\"white\", size=.5),\n",
    "        panel.background   = element_rect(fill=\"gray88\"),\n",
    "        axis.line          = element_blank(),\n",
    "        axis.ticks         = element_blank(),\n",
    "        legend.position    = \"right\"\n",
    "    )\n",
    "\n",
    "g <- plot_grid(g1, g2, ncol=2)\n",
    "ggdraw() + draw_plot(g, width=1, height=1)"
   ]
  },
  {
   "cell_type": "code",
   "execution_count": 12,
   "metadata": {
    "collapsed": false
   },
   "outputs": [
    {
     "data": {
      "text/plain": [
       "\n",
       "Call:\n",
       "lm(formula = dist ~ speed, data = cars)\n",
       "\n",
       "Coefficients:\n",
       "(Intercept)        speed  \n",
       "    -17.579        3.932  \n"
      ]
     },
     "metadata": {},
     "output_type": "display_data"
    },
    {
     "data": {
      "text/html": [
       "'---------------------------------------'"
      ],
      "text/latex": [
       "'---------------------------------------'"
      ],
      "text/markdown": [
       "'---------------------------------------'"
      ],
      "text/plain": [
       "[1] \"---------------------------------------\""
      ]
     },
     "metadata": {},
     "output_type": "display_data"
    },
    {
     "data": {
      "text/plain": [
       "\n",
       "Call:\n",
       "lm(formula = dist ~ qspeed, data = cars)\n",
       "\n",
       "Coefficients:\n",
       "  (Intercept)  qspeed(12,15]  qspeed(15,19]  qspeed(19,25]  \n",
       "        18.20          21.98          31.97          51.13  \n"
      ]
     },
     "metadata": {},
     "output_type": "display_data"
    }
   ],
   "source": [
    "lm(formula=dist~speed, data=cars)\n",
    "\"---------------------------------------\"\n",
    "lm(formula=dist~qspeed, data=cars)"
   ]
  },
  {
   "cell_type": "markdown",
   "metadata": {},
   "source": [
    "### 2.3 Spatial Objects"
   ]
  },
  {
   "cell_type": "code",
   "execution_count": 14,
   "metadata": {
    "collapsed": false
   },
   "outputs": [
    {
     "data": {
      "text/plain": [
       "An object of class \"Spatial\"\n",
       "Slot \"bbox\":\n",
       "     min max\n",
       "[1,]   0   1\n",
       "[2,]   0   1\n",
       "\n",
       "Slot \"proj4string\":\n",
       "CRS arguments: NA \n"
      ]
     },
     "metadata": {},
     "output_type": "display_data"
    }
   ],
   "source": [
    "suppressMessages(library(sp))\n",
    "\n",
    "m <- matrix(c(0, 0, 1, 1), ncol=2, dimnames=list(NULL, c(\"min\", \"max\")))\n",
    "crs <- CRS(projargs = as.character(NA))\n",
    "\n",
    "S <- Spatial(bbox = m, proj4string = crs)\n",
    "S"
   ]
  },
  {
   "cell_type": "markdown",
   "metadata": {},
   "source": [
    "### 2.4 Spatial Points"
   ]
  },
  {
   "cell_type": "code",
   "execution_count": 20,
   "metadata": {
    "collapsed": false
   },
   "outputs": [
    {
     "data": {
      "text/plain": [
       "Object of class SpatialPoints\n",
       "Coordinates:\n",
       "                 min      max\n",
       "coords.x1 -122.95000 153.0333\n",
       "coords.x2  -37.81667  57.0500\n",
       "Is projected: FALSE \n",
       "proj4string : [+proj=longlat +ellps=WGS84]\n",
       "Number of points: 54"
      ]
     },
     "metadata": {},
     "output_type": "display_data"
    }
   ],
   "source": [
    "CRAN_df <- read.table(\"CRAN051001a.txt\", header=T)\n",
    "CRAN_mat <- cbind(CRAN_df$long, CRAN_df$lat)\n",
    "row.names(CRAN_mat) <- 1:nrow(CRAN_mat)\n",
    "\n",
    "llCRS <- CRS(\"+proj=longlat +ellps=WGS84\")\n",
    "CRAN_sp <- SpatialPoints(CRAN_mat, proj4string=llCRS)\n",
    "summary(CRAN_sp)"
   ]
  },
  {
   "cell_type": "code",
   "execution_count": 22,
   "metadata": {
    "collapsed": false
   },
   "outputs": [
    {
     "data": {
      "text/html": [
       "<table>\n",
       "<thead><tr><th></th><th scope=col>min</th><th scope=col>max</th></tr></thead>\n",
       "<tbody>\n",
       "\t<tr><th scope=row>coords.x1</th><td>-122.95000</td><td>153.0333  </td></tr>\n",
       "\t<tr><th scope=row>coords.x2</th><td> -37.81667</td><td> 57.0500  </td></tr>\n",
       "</tbody>\n",
       "</table>\n"
      ],
      "text/latex": [
       "\\begin{tabular}{r|ll}\n",
       "  & min & max\\\\\n",
       "\\hline\n",
       "\tcoords.x1 & -122.95000 & 153.0333  \\\\\n",
       "\tcoords.x2 &  -37.81667 &  57.0500  \\\\\n",
       "\\end{tabular}\n"
      ],
      "text/markdown": [
       "\n",
       "| <!--/--> | min | max | \n",
       "|---|---|\n",
       "| coords.x1 | -122.95000 | 153.0333   | \n",
       "| coords.x2 |  -37.81667 |  57.0500   | \n",
       "\n",
       "\n"
      ],
      "text/plain": [
       "          min        max     \n",
       "coords.x1 -122.95000 153.0333\n",
       "coords.x2  -37.81667  57.0500"
      ]
     },
     "metadata": {},
     "output_type": "display_data"
    },
    {
     "data": {
      "text/html": [
       "'+proj=longlat +ellps=WGS84'"
      ],
      "text/latex": [
       "'+proj=longlat +ellps=WGS84'"
      ],
      "text/markdown": [
       "'+proj=longlat +ellps=WGS84'"
      ],
      "text/plain": [
       "[1] \"+proj=longlat +ellps=WGS84\""
      ]
     },
     "metadata": {},
     "output_type": "display_data"
    }
   ],
   "source": [
    "bbox(CRAN_sp)\n",
    "proj4string(CRAN_sp)"
   ]
  },
  {
   "cell_type": "markdown",
   "metadata": {},
   "source": [
    "If we want to extract the CRAN mirrors located in Brazil in 2005:"
   ]
  },
  {
   "cell_type": "code",
   "execution_count": 25,
   "metadata": {
    "collapsed": false
   },
   "outputs": [
    {
     "data": {
      "text/html": [
       "<table>\n",
       "<thead><tr><th></th><th scope=col>coords.x1</th><th scope=col>coords.x2</th></tr></thead>\n",
       "<tbody>\n",
       "\t<tr><th scope=row>4</th><td>-49.26667</td><td>-25.41667</td></tr>\n",
       "\t<tr><th scope=row>5</th><td>-42.86667</td><td>-20.75000</td></tr>\n",
       "\t<tr><th scope=row>6</th><td>-43.20000</td><td>-22.90000</td></tr>\n",
       "\t<tr><th scope=row>7</th><td>-47.63333</td><td>-22.71667</td></tr>\n",
       "\t<tr><th scope=row>8</th><td>-46.63333</td><td>-23.53333</td></tr>\n",
       "</tbody>\n",
       "</table>\n"
      ],
      "text/latex": [
       "\\begin{tabular}{r|ll}\n",
       "  & coords.x1 & coords.x2\\\\\n",
       "\\hline\n",
       "\t4 & -49.26667 & -25.41667\\\\\n",
       "\t5 & -42.86667 & -20.75000\\\\\n",
       "\t6 & -43.20000 & -22.90000\\\\\n",
       "\t7 & -47.63333 & -22.71667\\\\\n",
       "\t8 & -46.63333 & -23.53333\\\\\n",
       "\\end{tabular}\n"
      ],
      "text/markdown": [
       "\n",
       "| <!--/--> | coords.x1 | coords.x2 | \n",
       "|---|---|---|---|---|\n",
       "| 4 | -49.26667 | -25.41667 | \n",
       "| 5 | -42.86667 | -20.75000 | \n",
       "| 6 | -43.20000 | -22.90000 | \n",
       "| 7 | -47.63333 | -22.71667 | \n",
       "| 8 | -46.63333 | -23.53333 | \n",
       "\n",
       "\n"
      ],
      "text/plain": [
       "  coords.x1 coords.x2\n",
       "4 -49.26667 -25.41667\n",
       "5 -42.86667 -20.75000\n",
       "6 -43.20000 -22.90000\n",
       "7 -47.63333 -22.71667\n",
       "8 -46.63333 -23.53333"
      ]
     },
     "metadata": {},
     "output_type": "display_data"
    }
   ],
   "source": [
    "brazil <- which(CRAN_df$loc == \"Brazil\")\n",
    "coordinates(CRAN_sp)[brazil,]"
   ]
  },
  {
   "cell_type": "code",
   "execution_count": 27,
   "metadata": {
    "collapsed": false
   },
   "outputs": [
    {
     "data": {
      "text/plain": [
       "Object of class SpatialPoints\n",
       "Coordinates:\n",
       "                min       max\n",
       "coords.x1 -49.26667 -42.86667\n",
       "coords.x2 -25.41667 -20.75000\n",
       "Is projected: FALSE \n",
       "proj4string : [+proj=longlat +ellps=WGS84]\n",
       "Number of points: 5"
      ]
     },
     "metadata": {},
     "output_type": "display_data"
    }
   ],
   "source": [
    "summary(CRAN_sp[brazil,])"
   ]
  },
  {
   "cell_type": "code",
   "execution_count": 29,
   "metadata": {
    "collapsed": false
   },
   "outputs": [
    {
     "data": {
      "text/plain": [
       "             coordinates    place   north    east    loc      long       lat\n",
       "4 (-49.26667, -25.41667) Curitiba 25d25'S 49d16'W Brazil -49.26667 -25.41667"
      ]
     },
     "metadata": {},
     "output_type": "display_data"
    },
    {
     "data": {
      "text/html": [
       "'---------------------------------'"
      ],
      "text/latex": [
       "'---------------------------------'"
      ],
      "text/markdown": [
       "'---------------------------------'"
      ],
      "text/plain": [
       "[1] \"---------------------------------\""
      ]
     },
     "metadata": {},
     "output_type": "display_data"
    },
    {
     "name": "stdout",
     "output_type": "stream",
     "text": [
      " Factor w/ 30 levels \"Australia\",\"Austria\",..: 1 1 2 3 3 3 3 3 4 19 ...\n"
     ]
    }
   ],
   "source": [
    "CRAN_spdf1 <- SpatialPointsDataFrame(CRAN_mat, CRAN_df, proj4string=llCRS, match.ID=T)\n",
    "CRAN_spdf1[4,]\n",
    "\"---------------------------------\"\n",
    "str(CRAN_spdf1$loc)"
   ]
  },
  {
   "cell_type": "code",
   "execution_count": 30,
   "metadata": {
    "collapsed": false
   },
   "outputs": [
    {
     "data": {
      "text/html": [
       "TRUE"
      ],
      "text/latex": [
       "TRUE"
      ],
      "text/markdown": [
       "TRUE"
      ],
      "text/plain": [
       "[1] TRUE"
      ]
     },
     "metadata": {},
     "output_type": "display_data"
    }
   ],
   "source": [
    "s <- sample(nrow(CRAN_df))\n",
    "CRAN_spdf2 <- SpatialPointsDataFrame(CRAN_mat, CRAN_df[s,], proj4string=llCRS, match.ID=T)\n",
    "all.equal(CRAN_spdf2, CRAN_spdf1)"
   ]
  },
  {
   "cell_type": "code",
   "execution_count": null,
   "metadata": {
    "collapsed": true
   },
   "outputs": [],
   "source": []
  }
 ],
 "metadata": {
  "kernelspec": {
   "display_name": "R",
   "language": "R",
   "name": "ir"
  },
  "language_info": {
   "codemirror_mode": "r",
   "file_extension": ".r",
   "mimetype": "text/x-r-source",
   "name": "R",
   "pygments_lexer": "r",
   "version": "3.3.2"
  }
 },
 "nbformat": 4,
 "nbformat_minor": 0
}
